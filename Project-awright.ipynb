{
 "cells": [
  {
   "cell_type": "markdown",
   "id": "716b806e-60ad-4e87-b275-d5e91ca32fa1",
   "metadata": {
    "id": "716b806e-60ad-4e87-b275-d5e91ca32fa1"
   },
   "source": [
    "# Project : Weekly Task & Habit Tracker\n",
    "## Overview of the Project\n",
    "In this project, you will develop a Weekly Task & Habit Tracker using Python. This tool will help users track their tasks and habits throughout the week, allowing them to efficiently manage and monitor their daily routines and progress. Whether for personal use or as a professional productivity tool, this project will empower you to create a highly functional, interactive application using fundamental programming concepts in Python.\n",
    "\n",
    "The task tracker will allow users to:\n",
    "\n",
    "- Add tasks to specific days of the week and being able to mark them as completed.\n",
    "- Add and track daily habits (such as exercise, water intake, reading, etc) and mark them as completed.\n",
    "- Remove tasks or habits when no longer needed.\n",
    "- View progress reports for both tasks and habits over a weekly or daily basis.\n",
    "\n",
    "## Objectives of the Project\n",
    "The primary goal of this project is to build a simple yet effective task and habit tracking application. Through this, you will:\n",
    "\n",
    "- Gain hands-on experience in developing Python applications with user input, loops, and conditionals.\n",
    "- Understand how to manage and manipulate data structures like dictionaries and lists to store and process data.\n",
    "- Learn how to design and implement interactive user interfaces in a command-line environment.\n",
    "- Develop a deep understanding of code modularity and best practices for organizing Python programs.\n",
    "\n",
    "## Evaluation Criteria\n",
    "Your project will be evaluated on the following aspects:\n",
    "\n",
    "- **Functionality**: The application should be fully functional, allowing users to add, remove, and mark tasks or habits as complete, as well as generate reports.\n",
    "\n",
    "- **Code Organization**: Code should be well-structured, with clear, meaningful variable names and appropriate use of functions. The overall organization should make it easy to extend or modify the program in the future.\n",
    "\n",
    "- **User Experience**: The application should be easy to use, with clear instructions, error handling, and appropriate feedback for the user.\n",
    "\n",
    "- **Completeness**: Ensure all features are implemented as described and that the program runs smoothly without errors.\n",
    "\n",
    "- **Creativity**: The application should be developed with an eye toward user experience. Feel free to enhance the application with additional features such as custom messages or additional functionality.\n",
    "\n",
    "\n",
    "By the end of this project, you will have developed a working task and habit tracker in Python, an excellent demonstration of your ability to apply programming skills to practical scenarios. You will also gain insights into software design, data management, and the development of tools that are both useful and efficient."
   ]
  },
  {
   "cell_type": "markdown",
   "id": "d5d1b472-0df8-4ffc-9ad6-f99d2eec262d",
   "metadata": {
    "id": "d5d1b472-0df8-4ffc-9ad6-f99d2eec262d"
   },
   "source": [
    "## Part 1: Initial Setup\n",
    "Set up the foundational structure for your weekly task and habit tracker.\n",
    "### Instructions:\n",
    "1. Create a list containing all the days of the week **('Monday', 'Tuesday', 'Wednesday', 'Thursday', 'Friday', 'Saturday', 'Sunday')**.\n",
    "2. Initialize an empty dictionary that will be used to track habits for the week.\n",
    "3. Create a second dictionary that uses the days of the week as keys, with each key initially linked to an empty dictionary for storing tasks."
   ]
  },
  {
   "cell_type": "code",
   "execution_count": 1,
   "id": "41bb9ac1-fa02-4699-9f1a-979890cbdf8b",
   "metadata": {
    "id": "f1547fa4-5741-4921-9cc0-8774c11ee377"
   },
   "outputs": [],
   "source": [
    "weekdays = ['Monday', 'Tuesday', 'Wednesday', 'Thursday', 'Friday', 'Saturday', 'Sunday']\n",
    "habitsDict = {}"
   ]
  },
  {
   "cell_type": "code",
   "execution_count": 2,
   "id": "e44f0452-a370-48c7-b9fc-d95198741339",
   "metadata": {
    "id": "f1547fa4-5741-4921-9cc0-8774c11ee377"
   },
   "outputs": [
    {
     "name": "stdout",
     "output_type": "stream",
     "text": [
      "{'Monday': {}, 'Tuesday': {}, 'Wednesday': {}, 'Thursday': {}, 'Friday': {}, 'Saturday': {}, 'Sunday': {}}\n"
     ]
    }
   ],
   "source": [
    "weeklyTasks = {}\n",
    "tasks = {}\n",
    "for day in weekdays:\n",
    "    weeklyTasks[day] = {}\n",
    "print(weeklyTasks)"
   ]
  },
  {
   "cell_type": "markdown",
   "id": "9638fbde-9b43-4c68-ae54-77f251099b8e",
   "metadata": {
    "id": "9638fbde-9b43-4c68-ae54-77f251099b8e"
   },
   "source": [
    "## Part 2: Add Tasks and Habits\n",
    "Build functions that let users add tasks to specific days and habits for the entire week.\n",
    "### Instructions\n",
    "1. **Create a function to add tasks:**\n",
    "- Ask the user which day they want to add the task to.\n",
    "- Make sure to validate the day. Display a message if the day was invalid.\n",
    "- Ask for the task name.\n",
    "- Store it in the dictionary you created to store tasks under the correct day.\n",
    "- Set the task’s value to *False* to show it hasn’t been completed yet.\n",
    "\n",
    "\n",
    "2. **Create a function to add habits:**\n",
    "- Ask the user for the name of the habit (e.g., “Drink Water”).\n",
    "- Make sure to check if the habit already exists. Display a message if it does.\n",
    "- If it’s new, add it to the dictionary you created to store habits.\n",
    "- For that habit, create a nested dictionary with all 7 days set to *False*.\n",
    "\n",
    "\n",
    "**Tip:** Use ***.strip()*** and ***.title()*** to clean up user input.\n",
    "- **.strip()** = Removes any extra spaces at the beginning or end of the text. People often hit the spacebar by accident and add leading or trailing unwanted spaces. Example: \"  Monday  \" can be fixed by using .strip(): \"Monday\"\"\n",
    "- **.title()** = Capitalizes the first letter of each word and makes the rest lowercase. It helps match formatting exactly (especially for days of the week). Example: \"monday\" or \"MONDAY\"\" will be changed to \"Monday\".\n",
    "- **If the day does not exist, show a helpful error message.**"
   ]
  },
  {
   "cell_type": "code",
   "execution_count": 3,
   "id": "8e5a08ca-bd93-486c-9dbd-621e16e3064c",
   "metadata": {
    "id": "8e5a08ca-bd93-486c-9dbd-621e16e3064c"
   },
   "outputs": [],
   "source": [
    "#A function to input weekdays\n",
    "def inputWeekday():\n",
    "    inputDay = input(\"Please input the day of the week: \")\n",
    "    day = inputDay.strip().title()\n",
    "    #check validity\n",
    "    while not day in weekdays:\n",
    "        inputDay = input(\"Please check your spelling and re-enter a weekday: \")\n",
    "        day = inputDay.strip().title()\n",
    "    else:\n",
    "        print(\"You have selected \", day)\n",
    "    return day"
   ]
  },
  {
   "cell_type": "code",
   "execution_count": 4,
   "id": "68b0e8b6-1b1b-4999-b4dc-dcf64c91934c",
   "metadata": {
    "id": "8e5a08ca-bd93-486c-9dbd-621e16e3064c"
   },
   "outputs": [],
   "source": [
    "#A function to add tasks\n",
    "def addTasks():\n",
    "    print(\"Add a task by inputting a weekday and the task name.\")\n",
    "    day = \"\"\n",
    "    day = inputWeekday()\n",
    "    dayIndex = weekdays.index(day)\n",
    "    inputTask = input(\"Please enter the task name: \")\n",
    "    taskName = inputTask.strip().title()\n",
    "    taskInit = {taskName : False}\n",
    "    weeklyTasks[weekdays[dayIndex]].update(taskInit)\n",
    "    print(f\"Successfully added {taskName} for {day}!\")\n",
    "    return taskInit"
   ]
  },
  {
   "cell_type": "code",
   "execution_count": 8,
   "id": "bdb024fa-3e08-4d96-87d8-c04ecd8ecbc4",
   "metadata": {},
   "outputs": [
    {
     "name": "stdout",
     "output_type": "stream",
     "text": [
      "Add a task by inputting a weekday and the task name.\n"
     ]
    },
    {
     "name": "stdin",
     "output_type": "stream",
     "text": [
      "Please input the day of the week:  Wednesday\n"
     ]
    },
    {
     "name": "stdout",
     "output_type": "stream",
     "text": [
      "You have selected  Wednesday\n"
     ]
    },
    {
     "name": "stdin",
     "output_type": "stream",
     "text": [
      "Please enter the task name:  Reading\n"
     ]
    },
    {
     "name": "stdout",
     "output_type": "stream",
     "text": [
      "Successfully added Reading for Wednesday!\n"
     ]
    },
    {
     "data": {
      "text/plain": [
       "{'Reading': False}"
      ]
     },
     "execution_count": 8,
     "metadata": {},
     "output_type": "execute_result"
    }
   ],
   "source": [
    "addTasks()"
   ]
  },
  {
   "cell_type": "code",
   "execution_count": 9,
   "id": "4ce280fe-fea3-43e4-be24-022607ffa934",
   "metadata": {
    "id": "4ce280fe-fea3-43e4-be24-022607ffa934",
    "scrolled": true
   },
   "outputs": [],
   "source": [
    "#A function to add habits\n",
    "def addHabit():\n",
    "    inputHabit = input(\"Please enter a habit you would like to track: \")\n",
    "    habitName = inputHabit.strip().title()\n",
    "    while habitName in habitsDict:\n",
    "        inputHabit = input(\"That habit is already tracked. Please enter a new habit you would like to track: \")\n",
    "        habitName = inputHabit.strip().title()\n",
    "    else:\n",
    "        print(\"You have chosen \", habitName)\n",
    "    habitsDict.update({habitName : {}})\n",
    "    for day in weekdays:\n",
    "        habitsDict[habitName].setdefault(day, False)\n",
    "    print(f\"Successfully added {habitName}!\")\n",
    "    return habitsDict"
   ]
  },
  {
   "cell_type": "code",
   "execution_count": 11,
   "id": "9356fc8b-4d53-427f-8d25-57b80f89c8f0",
   "metadata": {},
   "outputs": [
    {
     "name": "stdin",
     "output_type": "stream",
     "text": [
      "Please enter a habit you would like to track:  Check Email\n"
     ]
    },
    {
     "name": "stdout",
     "output_type": "stream",
     "text": [
      "You have chosen  Check Email\n",
      "Successfully added Check Email!\n"
     ]
    },
    {
     "data": {
      "text/plain": [
       "{'Biking': {'Monday': False,\n",
       "  'Tuesday': False,\n",
       "  'Wednesday': False,\n",
       "  'Thursday': False,\n",
       "  'Friday': False,\n",
       "  'Saturday': False,\n",
       "  'Sunday': False},\n",
       " 'Check Email': {'Monday': False,\n",
       "  'Tuesday': False,\n",
       "  'Wednesday': False,\n",
       "  'Thursday': False,\n",
       "  'Friday': False,\n",
       "  'Saturday': False,\n",
       "  'Sunday': False}}"
      ]
     },
     "execution_count": 11,
     "metadata": {},
     "output_type": "execute_result"
    }
   ],
   "source": [
    "addHabit()\n",
    "#habitsDict"
   ]
  },
  {
   "cell_type": "markdown",
   "id": "2b4d9b4d-c7cb-4e18-a989-6bf66ce0488d",
   "metadata": {
    "id": "2b4d9b4d-c7cb-4e18-a989-6bf66ce0488d"
   },
   "source": [
    "## Part 3: Marking Tasks and Habits as Complete\n",
    "In this part, you'll implement two functions to allow users to mark their progress: one for tasks and one for habits.\n",
    "### Instructions:\n",
    "1. Create a function to mark tasks as complete:\n",
    "- Display all uncompleted tasks along with the day they belong to.\n",
    "- Ask the user to enter the name of the task they completed.\n",
    "- Find and update the task in your data structure by setting its value to *True*.\n",
    "- If all tasks are completed, display a message saying so.\n",
    "- Make sure to validate the day and check if the task exists. Display a message if the task does not exist or if the day was invalid.\n",
    "- **BONUS:** If the task is from a day before today, print a encouraging or funny message like: \"Task marked as complete. Better late than never!\" **Tip:** You can use the *datetime* library.\n",
    "\n",
    "2. Create a function to mark habits as complete:\n",
    "- Ask the user to enter the day and the name of the habit.\n",
    "- Make sure to validate the day and check if the habit exists. Display a message if the habit does not exist or if the day was invalid.\n",
    "- Update the habit’s status for that day by setting its value to *True*.\n",
    "\n",
    "#### Tips:\n",
    "- Use **.strip()** and **.title()** to clean up user input.\n",
    "- Always check if the dictionary contains data before trying to access something.\n",
    "- **If the day, habit or task doesn't exist, show a helpful error message.**\n",
    "  \n",
    "**Helpful note:** You can access a dictionary’s information using loops like this:"
   ]
  },
  {
   "cell_type": "code",
   "execution_count": null,
   "id": "30bb895d-dd03-402a-ac23-98b07fae6602",
   "metadata": {
    "id": "30bb895d-dd03-402a-ac23-98b07fae6602",
    "outputId": "eb3b27e8-aa92-433b-e363-8b7ca0fbe209"
   },
   "outputs": [],
   "source": [
    "my_dict = {\n",
    "    \"a\": 1,\n",
    "    \"b\": 2,\n",
    "    \"c\": 3\n",
    "}\n",
    "\n",
    "# Loop through keys and values\n",
    "for key, value in my_dict.items():\n",
    "    print(f\"{key} = {value}\")\n"
   ]
  },
  {
   "cell_type": "markdown",
   "id": "3232b6a3-02ef-448e-9d92-4579cf3dc54a",
   "metadata": {
    "id": "3232b6a3-02ef-448e-9d92-4579cf3dc54a"
   },
   "source": [
    "This will print each key and its value.\n",
    "\n",
    "You can also loop just through keys with ***for key in my_dict:*** or just values with for value in ***my_dict.values():***"
   ]
  },
  {
   "cell_type": "code",
   "execution_count": 12,
   "id": "ac83b67f-6984-4325-b9e0-1dbc2a0f58b8",
   "metadata": {
    "editable": true,
    "id": "ac83b67f-6984-4325-b9e0-1dbc2a0f58b8",
    "slideshow": {
     "slide_type": ""
    },
    "tags": []
   },
   "outputs": [],
   "source": [
    "#Function to complete Tasks\n",
    "def completeTasks():\n",
    "    # Print schedule\n",
    "    print(\"Your task schedule is now: \")\n",
    "    for x, tsks in weeklyTasks.items():\n",
    "        print(x)\n",
    "        for y in tsks:\n",
    "            print(\"\\t\", y, \"\\t\", weeklyTasks[x][y]) #End print schedule\n",
    "    #Check not all completed\n",
    "    valList = [] #Collect values\n",
    "    for day in weekdays: \n",
    "        for v in weeklyTasks[day].values():\n",
    "            valList.append(v)\n",
    "    if False not in valList: #check for all True\n",
    "        print(\"You've finished your tasks!\") \n",
    "    # Continue to input tasks\n",
    "    else:\n",
    "        dayIn = inputWeekday() #input day\n",
    "        print('Tasks for ', dayIn, \":\")\n",
    "        for key, value in weeklyTasks[dayIn].items():\n",
    "            print(f\"{key} = {value}\")\n",
    "        #Input task\n",
    "        inputCompleted = input(\"Which task has been completed?\")\n",
    "        completed = inputCompleted.strip().title()\n",
    "        if completed in weeklyTasks[dayIn]: #Verify task exists on day\n",
    "            weeklyTasks[dayIn][completed] = True #change task to completed\n",
    "        else:\n",
    "            inputCompleted = input(\"Was there a typo? Which task has been completed?\") #If task not present ask for reentry\n",
    "            completed = inputCompleted.strip().title()\n",
    "        # Print schedule\n",
    "        print(\"Your updated task schedule is now: \")\n",
    "        for x, tsks in weeklyTasks.items():\n",
    "            print(x)\n",
    "            for y in tsks:\n",
    "                print(\"\\t\", y, \"\\t\", weeklyTasks[x][y]) #End print schedule\n",
    "        "
   ]
  },
  {
   "cell_type": "code",
   "execution_count": 13,
   "id": "77042889-7dbe-4b4b-a428-ed244df0e4e6",
   "metadata": {},
   "outputs": [
    {
     "name": "stdout",
     "output_type": "stream",
     "text": [
      "Your task schedule is now: \n",
      "Monday\n",
      "\t Daycare \t False\n",
      "Tuesday\n",
      "\t Daycare \t False\n",
      "Wednesday\n",
      "\t Advising \t False\n",
      "\t Reading \t False\n",
      "Thursday\n",
      "Friday\n",
      "Saturday\n",
      "Sunday\n"
     ]
    },
    {
     "name": "stdin",
     "output_type": "stream",
     "text": [
      "Please input the day of the week:  Monday\n"
     ]
    },
    {
     "name": "stdout",
     "output_type": "stream",
     "text": [
      "You have selected  Monday\n",
      "Tasks for  Monday :\n",
      "Daycare = False\n"
     ]
    },
    {
     "name": "stdin",
     "output_type": "stream",
     "text": [
      "Which task has been completed? Daycare\n"
     ]
    },
    {
     "name": "stdout",
     "output_type": "stream",
     "text": [
      "Your updated task schedule is now: \n",
      "Monday\n",
      "\t Daycare \t True\n",
      "Tuesday\n",
      "\t Daycare \t False\n",
      "Wednesday\n",
      "\t Advising \t False\n",
      "\t Reading \t False\n",
      "Thursday\n",
      "Friday\n",
      "Saturday\n",
      "Sunday\n"
     ]
    }
   ],
   "source": [
    "completeTasks() "
   ]
  },
  {
   "cell_type": "code",
   "execution_count": 20,
   "id": "6f66e8f8-ea73-4fba-b5cf-468f9075c8b5",
   "metadata": {},
   "outputs": [],
   "source": [
    "#Habit Completion\n",
    "def completeHabits():\n",
    "    habitsL = list(habitsDict.keys())\n",
    "    print(\"Here's a list of your daily habits: \", habitsL)\n",
    "    # Input Habit\n",
    "    inputCompleted = input(\"Which habit has been completed?\")\n",
    "    completed = inputCompleted.strip().title()\n",
    "    while not completed in habitsL: #Verify habit exists\n",
    "        inputCompleted = input(\"Was there a typo? Which habit has been completed?\") #If habit not present ask for reentry\n",
    "        completed = inputCompleted.strip().title() \n",
    "    dayIn = inputWeekday() #input day\n",
    "    valueH = habitsDict[completed][dayIn]\n",
    "    while valueH == True:\n",
    "        print(f\"Already completed {completed} on that day!\")\n",
    "        dayIn = inputWeekday() #input day \n",
    "        valueH = habitsDict[completed][dayIn]\n",
    "    else:\n",
    "        habitsDict[completed][dayIn] = True #change habit completed\n",
    "    print(f\"Successfully recorded {completed} for {dayIn}!\")\n",
    "    return habitsDict\n",
    "        \n"
   ]
  },
  {
   "cell_type": "code",
   "execution_count": 15,
   "id": "108c916a-db4e-43b2-8ca4-a70161bb4c1b",
   "metadata": {},
   "outputs": [
    {
     "name": "stdout",
     "output_type": "stream",
     "text": [
      "Here's a list of your daily habits:  ['Biking', 'Check Email']\n"
     ]
    },
    {
     "name": "stdin",
     "output_type": "stream",
     "text": [
      "Which habit has been completed? Biking\n",
      "Please input the day of the week:  Tuesday\n"
     ]
    },
    {
     "name": "stdout",
     "output_type": "stream",
     "text": [
      "You have selected  Tuesday\n",
      "Successfully recorded Biking for Tuesday!\n"
     ]
    },
    {
     "data": {
      "text/plain": [
       "{'Biking': {'Monday': False,\n",
       "  'Tuesday': True,\n",
       "  'Wednesday': False,\n",
       "  'Thursday': False,\n",
       "  'Friday': False,\n",
       "  'Saturday': False,\n",
       "  'Sunday': False},\n",
       " 'Check Email': {'Monday': False,\n",
       "  'Tuesday': False,\n",
       "  'Wednesday': False,\n",
       "  'Thursday': False,\n",
       "  'Friday': False,\n",
       "  'Saturday': False,\n",
       "  'Sunday': False}}"
      ]
     },
     "execution_count": 15,
     "metadata": {},
     "output_type": "execute_result"
    },
    {
     "name": "stdout",
     "output_type": "stream",
     "text": [
      "You have selected  Tuesday\n",
      "Successfully recorded Daycare Pickup for Tuesday!\n"
     ]
    },
    {
     "data": {
      "text/plain": [
       "{'Check Email': {'Monday': False,\n",
       "  'Tuesday': False,\n",
       "  'Wednesday': False,\n",
       "  'Thursday': False,\n",
       "  'Friday': False,\n",
       "  'Saturday': False,\n",
       "  'Sunday': False},\n",
       " 'Daycare Pickup': {'Monday': False,\n",
       "  'Tuesday': True,\n",
       "  'Wednesday': False,\n",
       "  'Thursday': False,\n",
       "  'Friday': False,\n",
       "  'Saturday': False,\n",
       "  'Sunday': False},\n",
       " 'Bike': {'Monday': True,\n",
       "  'Tuesday': False,\n",
       "  'Wednesday': False,\n",
       "  'Thursday': False,\n",
       "  'Friday': False,\n",
       "  'Saturday': False,\n",
       "  'Sunday': False}}"
      ]
     },
     "execution_count": 181,
     "metadata": {},
     "output_type": "execute_result"
    }
   ],
   "source": [
    "completeHabits()"
   ]
  },
  {
   "cell_type": "markdown",
   "id": "9d889f9f-d755-4609-a045-d39dcd8353c6",
   "metadata": {
    "id": "9d889f9f-d755-4609-a045-d39dcd8353c6"
   },
   "source": [
    "## Part 4: Removing Tasks and Habits\n",
    "\n",
    "For this and all subsequent submissions, track your project progress with version control in a local repository connected to GitHub. Create a directory with your first initial and last name (ex. project-sclarke for Sarah Clarke) to keep track of the files relating to the project.\n",
    "\n",
    "Next, connect the local Git repository to GitHub. Ensure the GitHub repository is set to public, and include the link here:\n",
    "\n",
    "**GitHub Link:** https://github.com/wrightas/project-awright\n",
    "\n",
    "For tracking progress, there should be a *minimum* of 3 commits in the version history by the end of the project, one for each submission (version with parts 1-3 completed, version with parts 1-5, final submission version).\n",
    "\n",
    "\n",
    "### Instructions:\n",
    "1. Create a function to remove a task:\n",
    "- Ask the user which day the task is on.\n",
    "- Show the list of tasks for that day, if there are none, display a message saying so.\n",
    "- Ask the user which task to remove.\n",
    "- If the task exists, delete it from the dictionary using del and display a message saying which task was deleted.\n",
    "- Make sure to validate the day and check if the task exists. Display a message if the task does not exist or if the day was invalid.\n",
    "\n",
    "2. Create a function to remove a habit:\n",
    "- Display all habits that are currently being tracked.\n",
    "- Ask the user which habit to remove. Display a message if the habit does not exist.\n",
    "- If it exists in the dictionary, delete it using del and display a message saying which habit was deleted.\n",
    "- Make sure to validate the day and check if the habit exists. Display a message if the habit does not exist or if the day was invalid.\n",
    "\n",
    "#### Tips:\n",
    "- Use **.strip()** and **.title()** to clean up user input.\n",
    "- Always check if the dictionary contains data before trying to access or delete something.\n",
    "- **If the day, habit or task doesn't exist, show a helpful error message.**"
   ]
  },
  {
   "cell_type": "code",
   "execution_count": 21,
   "id": "49bc0d69-db7d-4d06-b024-5ba01de17709",
   "metadata": {
    "id": "49bc0d69-db7d-4d06-b024-5ba01de17709"
   },
   "outputs": [],
   "source": [
    "#Function to remove a Task\n",
    "def removeTasks():\n",
    "    # Print schedule\n",
    "    print(\"Your task schedule is now: \")\n",
    "    for x, tsks in weeklyTasks.items():\n",
    "        print(x)\n",
    "        for y in tsks:\n",
    "            print(\"\\t\", y, \"\\t\", weeklyTasks[x][y]) #End print schedule\n",
    "    # Continue to input tasks\n",
    "    print(\"To remove a task, first select a day.\")\n",
    "    dayIn = inputWeekday() #input day\n",
    "    print('Tasks for ', dayIn, \":\")\n",
    "    for key, value in weeklyTasks[dayIn].items():\n",
    "        print(f\"{key} = {value}\")\n",
    "    #Input task\n",
    "    inputRemove = input(\"Which task should be removed?\")\n",
    "    remove = inputRemove.strip().title()\n",
    "    while not remove in weeklyTasks[dayIn]: #Verify task exists on day\n",
    "        inputRemove = input(\"Was there a typo? Which task should be removed?\")\n",
    "        remove = inputRemove.strip().title()\n",
    "    else:\n",
    "        del weeklyTasks[dayIn][remove] #change task to completed\n",
    "        print(f\"Task {remove} has been removed from {dayIn}!\")\n",
    "    # Print schedule\n",
    "    print(\"Your updated task schedule is now: \")\n",
    "    for x, tsks in weeklyTasks.items():\n",
    "        print(x)\n",
    "        for y in tsks:\n",
    "            print(\"\\t\", y, \"\\t\", weeklyTasks[x][y]) #End print schedule\n",
    "    return weeklyTasks"
   ]
  },
  {
   "cell_type": "code",
   "execution_count": 19,
   "id": "58b929a3-d247-4cc1-88c1-fdcccef5a293",
   "metadata": {},
   "outputs": [
    {
     "name": "stdout",
     "output_type": "stream",
     "text": [
      "Your task schedule is now: \n",
      "Monday\n",
      "\t Daycare \t True\n",
      "Tuesday\n",
      "\t Daycare \t False\n",
      "Wednesday\n",
      "\t Advising \t False\n",
      "\t Reading \t False\n",
      "Thursday\n",
      "Friday\n",
      "Saturday\n",
      "Sunday\n",
      "To remove a task, first select a day.\n"
     ]
    },
    {
     "name": "stdin",
     "output_type": "stream",
     "text": [
      "Please input the day of the week:  Tuesday\n"
     ]
    },
    {
     "name": "stdout",
     "output_type": "stream",
     "text": [
      "You have selected  Tuesday\n",
      "Tasks for  Tuesday :\n",
      "Daycare = False\n"
     ]
    },
    {
     "name": "stdin",
     "output_type": "stream",
     "text": [
      "Which task should be removed? sdfsadf\n",
      "Was there a typo? Which task should be removed? asdfvas\n",
      "Was there a typo? Which task should be removed? asdfasd\n",
      "Was there a typo? Which task should be removed? Daycare\n"
     ]
    },
    {
     "name": "stdout",
     "output_type": "stream",
     "text": [
      "Task Daycare has been removed from Tuesday!\n",
      "Your updated task schedule is now: \n",
      "Monday\n",
      "\t Daycare \t True\n",
      "Tuesday\n",
      "Wednesday\n",
      "\t Advising \t False\n",
      "\t Reading \t False\n",
      "Thursday\n",
      "Friday\n",
      "Saturday\n",
      "Sunday\n"
     ]
    }
   ],
   "source": [
    "removeTasks()"
   ]
  },
  {
   "cell_type": "code",
   "execution_count": 24,
   "id": "02fa45e1-cf69-4601-aded-b6c3cfde2070",
   "metadata": {
    "id": "02fa45e1-cf69-4601-aded-b6c3cfde2070"
   },
   "outputs": [],
   "source": [
    "#Habit Removal\n",
    "def removeHabits():\n",
    "    habitsL = list(habitsDict.keys())\n",
    "    print(\"Here's a list of your daily habits: \", habitsL)\n",
    "    # Input Habit\n",
    "    inputRemove = input(\"Which habit should be removed?\")\n",
    "    remove = inputRemove.strip().title()\n",
    "    while not remove in habitsL: #Verify habit exists\n",
    "        inputRemove = input(\"Was there a typo? Which habit should be removed?\") #If habit not present ask for reentry\n",
    "        remove = inputRemove.strip().title() \n",
    "    else:\n",
    "        del habitsDict[remove] #remove habit\n",
    "    print(f\"Successfully removed {remove}!\")\n",
    "    return habitsDict"
   ]
  },
  {
   "cell_type": "code",
   "execution_count": 25,
   "id": "38d400a0-564e-4288-b309-5f80850708ed",
   "metadata": {},
   "outputs": [
    {
     "name": "stdout",
     "output_type": "stream",
     "text": [
      "Here's a list of your daily habits:  ['Biking', 'Check Email']\n"
     ]
    },
    {
     "name": "stdin",
     "output_type": "stream",
     "text": [
      "Which habit should be removed? biki\n",
      "Was there a typo? Which habit should be removed? blikng\n",
      "Was there a typo? Which habit should be removed? biking\n"
     ]
    },
    {
     "name": "stdout",
     "output_type": "stream",
     "text": [
      "Successfully removed Biking!\n"
     ]
    },
    {
     "data": {
      "text/plain": [
       "{'Check Email': {'Monday': False,\n",
       "  'Tuesday': False,\n",
       "  'Wednesday': False,\n",
       "  'Thursday': False,\n",
       "  'Friday': False,\n",
       "  'Saturday': False,\n",
       "  'Sunday': False}}"
      ]
     },
     "execution_count": 25,
     "metadata": {},
     "output_type": "execute_result"
    }
   ],
   "source": [
    "removeHabits()"
   ]
  },
  {
   "cell_type": "markdown",
   "id": "e7f5f645-b3f5-4425-b339-2df5941fefd2",
   "metadata": {
    "id": "e7f5f645-b3f5-4425-b339-2df5941fefd2"
   },
   "source": [
    "## Part 5: Generating Weekly and Daily Reports\n",
    "\n",
    "### Instructions:\n",
    "1. Create a Weekly Report Function\n",
    "\n",
    "This function should summarize the user's progress over the entire week.\n",
    "- For Habits:\n",
    "    - Loop through each habit in your habit tracker.\n",
    "    - Count how many days the habit was marked as complete using a loop or a list comprehension.\n",
    "    - Display the habit name and the number of days it was completed out of 7.\n",
    "    - Display a message if there are no habits found.\n",
    "- For Tasks:\n",
    "    - Loop through all days and collect tasks into two separate lists:\n",
    "        - One for completed tasks\n",
    "        - One for not completed tasks\n",
    "    - Include the task name and the day in parentheses.\n",
    "    - Display both lists clearly.\n",
    "    - Display a message if there are no tasks found.\n",
    "\n",
    "2. Create a Daily Report Function\n",
    "\n",
    "This function allows the user to view all their activity for a specific day.\n",
    "\n",
    "- Ask the user to enter a day (e.g., \"Monday\").\n",
    "- If the day is valid:\n",
    "    - Display all tasks for that day, showing whether each one is complete or not.\n",
    "    - Display all habits, showing whether they were completed on that day.\n",
    "- Use ✅ for completed and ❌ for not completed.\n",
    "\n",
    "#### Tips:\n",
    "- Use **.title()** to make sure the input day matches the format in your list.\n",
    "- Use clear formatting in your print statements to separate sections.\n",
    "- Always check if the dictionary contains data before trying to access something.\n",
    "- **If the day doesn't exist, show a helpful error message.**"
   ]
  },
  {
   "cell_type": "code",
   "execution_count": null,
   "id": "b4b1d7d1-b604-435c-887e-c83ba04f6cca",
   "metadata": {
    "id": "b4b1d7d1-b604-435c-887e-c83ba04f6cca"
   },
   "outputs": [],
   "source": [
    "#your code goes here"
   ]
  },
  {
   "cell_type": "code",
   "execution_count": null,
   "id": "5b16088c-530a-492a-b507-58b73d6c73ad",
   "metadata": {
    "id": "5b16088c-530a-492a-b507-58b73d6c73ad"
   },
   "outputs": [],
   "source": [
    "#your code goes here"
   ]
  },
  {
   "cell_type": "markdown",
   "id": "6fa4385e-f80a-4465-abf2-5593d6afb88e",
   "metadata": {
    "id": "6fa4385e-f80a-4465-abf2-5593d6afb88e"
   },
   "source": [
    "## Part 6: Instructions – Building the Main Menu System\n",
    "In this final part, you'll create a main control loop that acts as the user interface for your program. This allows users to interact with your habit and task tracker through a series of text-based menu options.\n",
    "\n",
    "### Instructions:\n",
    "1. Set Up a Loop: Use a loop to keep showing the menu until the user chooses to exit.\n",
    "\n",
    "2. Display the Main Menu\n",
    "- Show numbered options for:\n",
    "    - 1. Adding a Task or Habit\n",
    "    - 2. Marking a Task or Habit as complete\n",
    "    - 3. Removing a Task or Habit\n",
    "    - 4. Viewing reports\n",
    "    - 5. Exiting the program\n",
    "\n",
    "3. Handle User Input\n",
    "   \n",
    "Ask the user to choose an option using input(). Based on the number they enter:\n",
    "\n",
    "- Option 1: Ask whether they want to add a Task or a Habit. Call the correct function.\n",
    "- Option 2: Ask whether they want to mark a Task or Habit as complete. Call the right function.\n",
    "- Option 3: Ask whether they want to remove a Task or a Habit. Call the appropriate function.\n",
    "- Option 4: Ask whether they want a Weekly or Daily report. Call the corresponding function.\n",
    "- Option 5: Exit the loop using break.\n",
    "\n",
    "4. Validate Input: Check for valid input at each step. If the user enters an invalid choice, show an error message and return to the menu."
   ]
  },
  {
   "cell_type": "code",
   "execution_count": null,
   "id": "e7c12d32-31d4-4c02-8e19-3304dfea818b",
   "metadata": {
    "id": "e7c12d32-31d4-4c02-8e19-3304dfea818b",
    "outputId": "f9bc33c1-9598-4b6f-e95d-4af49c39bf57"
   },
   "outputs": [],
   "source": [
    "#your code goes here"
   ]
  }
 ],
 "metadata": {
  "colab": {
   "provenance": []
  },
  "kernelspec": {
   "display_name": "Python 3 (ipykernel)",
   "language": "python",
   "name": "python3"
  },
  "language_info": {
   "codemirror_mode": {
    "name": "ipython",
    "version": 3
   },
   "file_extension": ".py",
   "mimetype": "text/x-python",
   "name": "python",
   "nbconvert_exporter": "python",
   "pygments_lexer": "ipython3",
   "version": "3.13.4"
  }
 },
 "nbformat": 4,
 "nbformat_minor": 5
}
